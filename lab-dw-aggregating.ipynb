{
  "cells": [
    {
      "cell_type": "markdown",
      "id": "31969215-2a90-4d8b-ac36-646a7ae13744",
      "metadata": {
        "id": "31969215-2a90-4d8b-ac36-646a7ae13744"
      },
      "source": [
        "# Lab | Data Aggregation and Filtering"
      ]
    },
    {
      "cell_type": "markdown",
      "id": "a8f08a52-bec0-439b-99cc-11d3809d8b5d",
      "metadata": {
        "id": "a8f08a52-bec0-439b-99cc-11d3809d8b5d"
      },
      "source": [
        "In this challenge, we will continue to work with customer data from an insurance company. We will use the dataset called marketing_customer_analysis.csv, which can be found at the following link:\n",
        "\n",
        "https://raw.githubusercontent.com/data-bootcamp-v4/data/main/marketing_customer_analysis.csv\n",
        "\n",
        "This dataset contains information such as customer demographics, policy details, vehicle information, and the customer's response to the last marketing campaign. Our goal is to explore and analyze this data by first performing data cleaning, formatting, and structuring."
      ]
    },
    {
      "cell_type": "code",
      "execution_count": 1,
      "id": "d34e77e0",
      "metadata": {},
      "outputs": [],
      "source": [
        "import pandas as pd\n",
        "\n",
        "url = \"https://raw.githubusercontent.com/data-bootcamp-v4/data/main/marketing_customer_analysis.csv\"\n",
        "df = pd.read_csv(url)\n",
        "\n",
        "df.columns = (df.columns\n",
        "                .str.strip()\n",
        "                .str.lower()\n",
        "                .str.replace(r\"\\s+\", \"_\", regex=True))\n",
        "\n",
        "if \"response\" in df.columns:\n",
        "    df[\"response\"] = df[\"response\"].astype(str).str.strip().str.title()"
      ]
    },
    {
      "cell_type": "markdown",
      "id": "9c98ddc5-b041-4c94-ada1-4dfee5c98e50",
      "metadata": {
        "id": "9c98ddc5-b041-4c94-ada1-4dfee5c98e50"
      },
      "source": [
        "1. Create a new DataFrame that only includes customers who:\n",
        "   - have a **low total_claim_amount** (e.g., below $1,000),\n",
        "   - have a response \"Yes\" to the last marketing campaign."
      ]
    },
    {
      "cell_type": "code",
      "execution_count": null,
      "id": "f0efb0ea",
      "metadata": {},
      "outputs": [],
      "source": [
        "df[\"total_claim_amount\"] = pd.to_numeric(df[\"total_claim_amount\"], errors=\"coerce\")\n",
        "\n",
        "low_claim_yes = df[(df[\"total_claim_amount\"] < 1000) & (df[\"response\"] == \"Yes\")].copy()\n",
        "low_claim_yes.head()"
      ]
    },
    {
      "cell_type": "markdown",
      "id": "b9be383e-5165-436e-80c8-57d4c757c8c3",
      "metadata": {
        "id": "b9be383e-5165-436e-80c8-57d4c757c8c3"
      },
      "source": [
        "2. Using the original Dataframe, analyze:\n",
        "   - the average `monthly_premium` and/or customer lifetime value by `policy_type` and `gender` for customers who responded \"Yes\", and\n",
        "   - compare these insights to `total_claim_amount` patterns, and discuss which segments appear most profitable or low-risk for the company."
      ]
    },
    {
      "cell_type": "code",
      "execution_count": null,
      "id": "ba6bdb4a",
      "metadata": {},
      "outputs": [],
      "source": [
        "for col in [\"monthly_premium_auto\", \"customer_lifetime_value\", \"total_claim_amount\"]:\n",
        "    df[col] = pd.to_numeric(df[col], errors=\"coerce\")\n",
        "\n",
        "yes_df = df[df[\"response\"] == \"Yes\"].copy()\n",
        "\n",
        "avg_premium_clv = (yes_df\n",
        "                   .groupby([\"policy_type\", \"gender\"])\n",
        "                   [[\"monthly_premium_auto\", \"customer_lifetime_value\"]]\n",
        "                   .mean()\n",
        "                   .round(2))\n",
        "\n",
        "avg_claim = (yes_df\n",
        "             .groupby([\"policy_type\", \"gender\"])\n",
        "             [[\"total_claim_amount\"]]\n",
        "             .mean()\n",
        "             .round(2))\n",
        "\n",
        "Comparetables = avg_premium_clv.join(avg_claim)\n",
        "print(Comparetables)"
      ]
    },
    {
      "cell_type": "markdown",
      "id": "7050f4ac-53c5-4193-a3c0-8699b87196f0",
      "metadata": {
        "id": "7050f4ac-53c5-4193-a3c0-8699b87196f0"
      },
      "source": [
        "3. Analyze the total number of customers who have policies in each state, and then filter the results to only include states where there are more than 500 customers."
      ]
    },
    {
      "cell_type": "code",
      "execution_count": null,
      "id": "ee0835e5",
      "metadata": {},
      "outputs": [],
      "source": [
        "if \"customer\" in df.columns:\n",
        "    customers_by_state = df.groupby(\"state\")[\"customer\"].nunique().rename(\"num_customers\")\n",
        "else:\n",
        "    customers_by_state = df.groupby(\"state\").size().rename(\"num_customers\")\n",
        "\n",
        "top_states_over_500_customers = customers_by_state[customers_by_state > 500].sort_values(ascending=False)\n",
        "print(top_states_over_500_customers)"
      ]
    },
    {
      "cell_type": "markdown",
      "id": "b60a4443-a1a7-4bbf-b78e-9ccdf9895e0d",
      "metadata": {
        "id": "b60a4443-a1a7-4bbf-b78e-9ccdf9895e0d"
      },
      "source": [
        "4. Find the maximum, minimum, and median customer lifetime value by education level and gender. Write your conclusions."
      ]
    },
    {
      "cell_type": "code",
      "execution_count": null,
      "id": "23d7721c",
      "metadata": {},
      "outputs": [],
      "source": [
        "clv_stats = (df\n",
        "             .groupby([\"education\", \"gender\"])[\"customer_lifetime_value\"]\n",
        "             .agg([\"min\", \"median\", \"max\"])\n",
        "             .round(2)\n",
        "            )\n",
        "print(clv_stats)"
      ]
    },
    {
      "cell_type": "markdown",
      "id": "b42999f9-311f-481e-ae63-40a5577072c5",
      "metadata": {
        "id": "b42999f9-311f-481e-ae63-40a5577072c5"
      },
      "source": [
        "## Bonus"
      ]
    },
    {
      "cell_type": "markdown",
      "id": "81ff02c5-6584-4f21-a358-b918697c6432",
      "metadata": {
        "id": "81ff02c5-6584-4f21-a358-b918697c6432"
      },
      "source": [
        "5. The marketing team wants to analyze the number of policies sold by state and month. Present the data in a table where the months are arranged as columns and the states are arranged as rows."
      ]
    },
    {
      "cell_type": "code",
      "execution_count": null,
      "id": "d246bfd1",
      "metadata": {},
      "outputs": [],
      "source": [
        "import pandas as pd\n",
        "\n",
        "url = \"https://raw.githubusercontent.com/data-bootcamp-v4/data/main/marketing_customer_analysis.csv\"\n",
        "df = pd.read_csv(url)\n",
        "\n",
        "df.columns = (df.columns\n",
        "                .str.strip()\n",
        "                .str.lower()\n",
        "                .str.replace(r\"\\s+\", \"_\", regex=True))\n",
        "\n",
        "df[\"effective_to_date\"] = pd.to_datetime(df[\"effective_to_date\"], errors=\"coerce\")\n",
        "df[\"month\"] = df[\"effective_to_date\"].dt.month_name()"
      ]
    },
    {
      "cell_type": "code",
      "execution_count": null,
      "id": "25e806fe",
      "metadata": {},
      "outputs": [],
      "source": [
        "policies_by_state_month = (\n",
        "    df.pivot_table(\n",
        "        index=\"state\",\n",
        "        columns=\"month\",\n",
        "        values=\"policy\",\n",
        "        aggfunc=\"count\"\n",
        "    )\n",
        "    .fillna(0)\n",
        "    .astype(int)\n",
        ")\n",
        "\n",
        "print(policies_by_state_month.head())"
      ]
    },
    {
      "cell_type": "markdown",
      "id": "b6aec097-c633-4017-a125-e77a97259cda",
      "metadata": {
        "id": "b6aec097-c633-4017-a125-e77a97259cda"
      },
      "source": [
        "6.  Display a new DataFrame that contains the number of policies sold by month, by state, for the top 3 states with the highest number of policies sold.\n",
        "\n",
        "*Hint:*\n",
        "- *To accomplish this, you will first need to group the data by state and month, then count the number of policies sold for each group. Afterwards, you will need to sort the data by the count of policies sold in descending order.*\n",
        "- *Next, you will select the top 3 states with the highest number of policies sold.*\n",
        "- *Finally, you will create a new DataFrame that contains the number of policies sold by month for each of the top 3 states.*"
      ]
    },
    {
      "cell_type": "code",
      "execution_count": null,
      "id": "bbb357df",
      "metadata": {},
      "outputs": [],
      "source": [
        "top3_states = policies_by_state_month.sum(axis=1).sort_values(ascending=False).head(3)\n",
        "print(\"Top 3 states with highest policy sales:\")\n",
        "print(top3_states)"
      ]
    },
    {
      "cell_type": "code",
      "execution_count": null,
      "id": "fa47eb13",
      "metadata": {},
      "outputs": [],
      "source": [
        "top3_policies_by_month = policies_by_state_month.loc[top3_states.index]\n",
        "\n",
        "print(\"\\nPolicies sold by month for the top 3 states:\")\n",
        "print(top3_policies_by_month)"
      ]
    },
    {
      "cell_type": "markdown",
      "id": "ba975b8a-a2cf-4fbf-9f59-ebc381767009",
      "metadata": {
        "id": "ba975b8a-a2cf-4fbf-9f59-ebc381767009"
      },
      "source": [
        "7. The marketing team wants to analyze the effect of different marketing channels on the customer response rate.\n",
        "\n",
        "Hint: You can use melt to unpivot the data and create a table that shows the customer response rate (those who responded \"Yes\") by marketing channel."
      ]
    },
    {
      "cell_type": "markdown",
      "id": "e4378d94-48fb-4850-a802-b1bc8f427b2d",
      "metadata": {
        "id": "e4378d94-48fb-4850-a802-b1bc8f427b2d"
      },
      "source": [
        "External Resources for Data Filtering: https://towardsdatascience.com/filtering-data-frames-in-pandas-b570b1f834b9"
      ]
    },
    {
      "cell_type": "code",
      "execution_count": null,
      "id": "449513f4-0459-46a0-a18d-9398d974c9ad",
      "metadata": {
        "id": "449513f4-0459-46a0-a18d-9398d974c9ad"
      },
      "outputs": [],
      "source": [
        "# your code goes here"
      ]
    }
  ],
  "metadata": {
    "colab": {
      "provenance": []
    },
    "kernelspec": {
      "display_name": "base",
      "language": "python",
      "name": "python3"
    },
    "language_info": {
      "codemirror_mode": {
        "name": "ipython",
        "version": 3
      },
      "file_extension": ".py",
      "mimetype": "text/x-python",
      "name": "python",
      "nbconvert_exporter": "python",
      "pygments_lexer": "ipython3",
      "version": "3.13.5"
    }
  },
  "nbformat": 4,
  "nbformat_minor": 5
}
